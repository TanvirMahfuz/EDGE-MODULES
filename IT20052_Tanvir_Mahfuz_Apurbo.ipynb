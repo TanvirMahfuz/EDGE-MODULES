{
  "nbformat": 4,
  "nbformat_minor": 0,
  "metadata": {
    "colab": {
      "provenance": [],
      "authorship_tag": "ABX9TyPuVCaN35Vt6fCEkpNOs8Ua",
      "include_colab_link": true
    },
    "kernelspec": {
      "name": "python3",
      "display_name": "Python 3"
    },
    "language_info": {
      "name": "python"
    }
  },
  "cells": [
    {
      "cell_type": "markdown",
      "metadata": {
        "id": "view-in-github",
        "colab_type": "text"
      },
      "source": [
        "<a href=\"https://colab.research.google.com/github/TanvirMahfuz/EDGE-MODULES/blob/main/IT20052_Tanvir_Mahfuz_Apurbo.ipynb\" target=\"_parent\"><img src=\"https://colab.research.google.com/assets/colab-badge.svg\" alt=\"Open In Colab\"/></a>"
      ]
    },
    {
      "cell_type": "code",
      "execution_count": 7,
      "metadata": {
        "colab": {
          "base_uri": "https://localhost:8080/"
        },
        "id": "8GaFUEOYDqR0",
        "outputId": "47e5a889-9859-42db-ef3c-a408d2de0d5d"
      },
      "outputs": [
        {
          "output_type": "stream",
          "name": "stdout",
          "text": [
            "Naive Bayes Accuracy: 0.9875\n",
            "              precision    recall  f1-score   support\n",
            "\n",
            "           0       1.00      0.98      0.99        52\n",
            "           2       0.97      1.00      0.98        28\n",
            "\n",
            "    accuracy                           0.99        80\n",
            "   macro avg       0.98      0.99      0.99        80\n",
            "weighted avg       0.99      0.99      0.99        80\n",
            "\n",
            "SVM Accuracy: 1.0\n",
            "              precision    recall  f1-score   support\n",
            "\n",
            "           0       1.00      1.00      1.00        52\n",
            "           2       1.00      1.00      1.00        28\n",
            "\n",
            "    accuracy                           1.00        80\n",
            "   macro avg       1.00      1.00      1.00        80\n",
            "weighted avg       1.00      1.00      1.00        80\n",
            "\n"
          ]
        }
      ],
      "source": [
        "# prompt: Scikitlearn: Build Machie Learning Model Naive Bayes and Support Vector Machince (SVM) using any dataset from Kaggle or somewhere else (or you own dataset - Synthetic).\n",
        "\n",
        "import pandas as pd\n",
        "from sklearn.model_selection import train_test_split\n",
        "from sklearn.naive_bayes import GaussianNB\n",
        "from sklearn.svm import SVC\n",
        "from sklearn.metrics import accuracy_score, classification_report\n",
        "from sklearn.preprocessing import LabelEncoder\n",
        "\n",
        "# Load the dataset (assuming it's already loaded as 'mydata')\n",
        "mydata = pd.read_csv(\"./sample_data/kidney_disease.csv\")\n",
        "\n",
        "\n",
        "# Preprocessing\n",
        "# Handle missing values (replace with mean for numerical, mode for categorical)\n",
        "for col in mydata.columns:\n",
        "    if mydata[col].dtype == 'object':\n",
        "        mydata[col] = mydata[col].fillna(mydata[col].mode()[0])\n",
        "    else:\n",
        "        mydata[col] = mydata[col].fillna(mydata[col].mean())\n",
        "\n",
        "\n",
        "# Encode categorical features\n",
        "label_encoders = {}\n",
        "for col in mydata.columns:\n",
        "    if mydata[col].dtype == 'object':\n",
        "        le = LabelEncoder()\n",
        "        mydata[col] = le.fit_transform(mydata[col])\n",
        "        label_encoders[col] = le\n",
        "\n",
        "\n",
        "# Separate features (X) and target (y)\n",
        "X = mydata.drop('classification', axis=1) # Assuming 'classification' is the target column\n",
        "y = mydata['classification']\n",
        "\n",
        "# Split data into training and testing sets\n",
        "X_train, X_test, y_train, y_test = train_test_split(X, y, test_size=0.2, random_state=42)\n",
        "\n",
        "# Train Naive Bayes model\n",
        "nb_model = GaussianNB()\n",
        "nb_model.fit(X_train, y_train)\n",
        "nb_predictions = nb_model.predict(X_test)\n",
        "\n",
        "# Evaluate Naive Bayes\n",
        "nb_accuracy = accuracy_score(y_test, nb_predictions)\n",
        "print(\"Naive Bayes Accuracy:\", nb_accuracy)\n",
        "print(classification_report(y_test, nb_predictions))\n",
        "\n",
        "# Train SVM model\n",
        "svm_model = SVC()\n",
        "svm_model.fit(X_train, y_train)\n",
        "svm_predictions = svm_model.predict(X_test)\n",
        "\n",
        "# Evaluate SVM\n",
        "svm_accuracy = accuracy_score(y_test, svm_predictions)\n",
        "print(\"SVM Accuracy:\", svm_accuracy)\n",
        "print(classification_report(y_test, svm_predictions))"
      ]
    },
    {
      "cell_type": "code",
      "source": [],
      "metadata": {
        "id": "ZAHXRIEuEHGi"
      },
      "execution_count": null,
      "outputs": []
    }
  ]
}