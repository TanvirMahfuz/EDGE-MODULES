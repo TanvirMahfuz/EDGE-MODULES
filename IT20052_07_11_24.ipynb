{
  "nbformat": 4,
  "nbformat_minor": 0,
  "metadata": {
    "colab": {
      "provenance": [],
      "authorship_tag": "ABX9TyNM2PP/uFqaZtGcBclPnhX2",
      "include_colab_link": true
    },
    "kernelspec": {
      "name": "python3",
      "display_name": "Python 3"
    },
    "language_info": {
      "name": "python"
    }
  },
  "cells": [
    {
      "cell_type": "markdown",
      "metadata": {
        "id": "view-in-github",
        "colab_type": "text"
      },
      "source": [
        "<a href=\"https://colab.research.google.com/github/TanvirMahfuz/EDGE-MODULES/blob/main/IT20052_07_11_24.ipynb\" target=\"_parent\"><img src=\"https://colab.research.google.com/assets/colab-badge.svg\" alt=\"Open In Colab\"/></a>"
      ]
    },
    {
      "cell_type": "code",
      "source": [
        "import sys\n",
        "\n",
        "sys.path.append(\"/content\")\n",
        "\n",
        "try:\n",
        "  from pi_value import pi_value\n",
        "  print(pi_value(int(input(\"Enter an integer \"))))\n",
        "except:\n",
        "  print(\"Error\")\n"
      ],
      "metadata": {
        "colab": {
          "base_uri": "https://localhost:8080/"
        },
        "id": "rQTygCy8II1T",
        "outputId": "8341e087-9b2a-4fe3-d8f7-cfc2731def1c"
      },
      "execution_count": 63,
      "outputs": [
        {
          "output_type": "stream",
          "name": "stdout",
          "text": [
            "Enter an integer23\n",
            "3.14159265358979323846264\n"
          ]
        }
      ]
    },
    {
      "cell_type": "code",
      "source": [
        "import pandas as pd\n",
        "df = pd.read_csv(\"input.csv\")\n",
        "\n",
        "mydata = []\n",
        "for i in df:\n",
        "  myData[i] = str(pi_value(int(i)))\n",
        "  mydata.append(myData[i])\n",
        "myDf = pd.DataFrame(myData, index=[0])\n",
        "\n",
        "out_df = pd.DataFrame(mydata, columns=[\"pi\"])\n",
        "out_df.to_csv(\"output.csv\", index=False)"
      ],
      "metadata": {
        "id": "jVt6HbgtIqzD"
      },
      "execution_count": 64,
      "outputs": []
    },
    {
      "cell_type": "code",
      "source": [],
      "metadata": {
        "id": "NJaFl9n4Ql5g"
      },
      "execution_count": null,
      "outputs": []
    },
    {
      "cell_type": "code",
      "source": [],
      "metadata": {
        "id": "Hd-KjC3vMP-y"
      },
      "execution_count": 59,
      "outputs": []
    }
  ]
}